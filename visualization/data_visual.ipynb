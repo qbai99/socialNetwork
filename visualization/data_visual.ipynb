{
 "cells": [
  {
   "cell_type": "code",
   "execution_count": 1,
   "metadata": {},
   "outputs": [],
   "source": [
    "import pandas as pd\n",
    "import json"
   ]
  },
  {
   "cell_type": "code",
   "execution_count": 2,
   "metadata": {},
   "outputs": [],
   "source": [
    "usa = pd.read_csv(\"data/USA_all.csv\")[['date', 'content','renderedContent','hashtags','likeCount','location']]\n",
    "other = pd.read_csv(\"data/Non_USA.csv\")[['date', 'content','renderedContent','hashtags','likeCount','Location']]"
   ]
  },
  {
   "cell_type": "code",
   "execution_count": 3,
   "metadata": {},
   "outputs": [],
   "source": [
    "other.rename({'Location': 'location'}, axis=1, inplace=True)"
   ]
  },
  {
   "cell_type": "code",
   "execution_count": 4,
   "metadata": {},
   "outputs": [],
   "source": [
    "cities = pd.concat([usa,other],ignore_index=True,axis=0)"
   ]
  },
  {
   "cell_type": "code",
   "execution_count": 5,
   "metadata": {},
   "outputs": [
    {
     "data": {
      "text/plain": [
       "(8331, 6)"
      ]
     },
     "execution_count": 5,
     "metadata": {},
     "output_type": "execute_result"
    }
   ],
   "source": [
    "cities.shape"
   ]
  },
  {
   "cell_type": "code",
   "execution_count": 6,
   "metadata": {},
   "outputs": [
    {
     "data": {
      "text/html": [
       "<div>\n",
       "<style scoped>\n",
       "    .dataframe tbody tr th:only-of-type {\n",
       "        vertical-align: middle;\n",
       "    }\n",
       "\n",
       "    .dataframe tbody tr th {\n",
       "        vertical-align: top;\n",
       "    }\n",
       "\n",
       "    .dataframe thead th {\n",
       "        text-align: right;\n",
       "    }\n",
       "</style>\n",
       "<table border=\"1\" class=\"dataframe\">\n",
       "  <thead>\n",
       "    <tr style=\"text-align: right;\">\n",
       "      <th></th>\n",
       "      <th>date</th>\n",
       "      <th>content</th>\n",
       "      <th>renderedContent</th>\n",
       "      <th>hashtags</th>\n",
       "      <th>likeCount</th>\n",
       "      <th>location</th>\n",
       "    </tr>\n",
       "  </thead>\n",
       "  <tbody>\n",
       "    <tr>\n",
       "      <th>0</th>\n",
       "      <td>2020-02-14 03:04:33+00:00</td>\n",
       "      <td>★💰 WORK FROM HOME💰 ★\\n I'm Looking For Stay at...</td>\n",
       "      <td>★💰 WORK FROM HOME💰 ★\\n I'm Looking For Stay at...</td>\n",
       "      <td>('bossmom', 'bossbabe', 'joinavon', 'joinmytea...</td>\n",
       "      <td>0.0</td>\n",
       "      <td>New York</td>\n",
       "    </tr>\n",
       "    <tr>\n",
       "      <th>1</th>\n",
       "      <td>2020-02-04 23:21:24+00:00</td>\n",
       "      <td>LIMITED TIME! Sign Up for FREE\\nEnds March 31....</td>\n",
       "      <td>LIMITED TIME! Sign Up for FREE\\nEnds March 31....</td>\n",
       "      <td>('luzavonsalesrep', 'bosslife', 'bosslady', 'w...</td>\n",
       "      <td>1.0</td>\n",
       "      <td>New York</td>\n",
       "    </tr>\n",
       "    <tr>\n",
       "      <th>2</th>\n",
       "      <td>2020-03-31 21:21:25+00:00</td>\n",
       "      <td>Catch our own Tiffany Joy Murchison @Ms_Tiffan...</td>\n",
       "      <td>Catch our own Tiffany Joy Murchison @Ms_Tiffan...</td>\n",
       "      <td>('Perspectives', 'OVERCOMECOVID19', 'WFH', 'TJ...</td>\n",
       "      <td>0.0</td>\n",
       "      <td>New York</td>\n",
       "    </tr>\n",
       "    <tr>\n",
       "      <th>3</th>\n",
       "      <td>2020-03-31 21:18:46+00:00</td>\n",
       "      <td>clocking out is near - make sure to end of you...</td>\n",
       "      <td>clocking out is near - make sure to end of you...</td>\n",
       "      <td>('WFH', 'spa', 'workingfromhome', 'kyliejenner...</td>\n",
       "      <td>0.0</td>\n",
       "      <td>New York</td>\n",
       "    </tr>\n",
       "    <tr>\n",
       "      <th>4</th>\n",
       "      <td>2020-03-31 20:04:07+00:00</td>\n",
       "      <td>😎 she’s so cool... #lea #leainny #stayhome #go...</td>\n",
       "      <td>😎 she’s so cool... #lea #leainny #stayhome #go...</td>\n",
       "      <td>('lea', 'leainny', 'stayhome', 'goldenretrieve...</td>\n",
       "      <td>0.0</td>\n",
       "      <td>New York</td>\n",
       "    </tr>\n",
       "  </tbody>\n",
       "</table>\n",
       "</div>"
      ],
      "text/plain": [
       "                        date  \\\n",
       "0  2020-02-14 03:04:33+00:00   \n",
       "1  2020-02-04 23:21:24+00:00   \n",
       "2  2020-03-31 21:21:25+00:00   \n",
       "3  2020-03-31 21:18:46+00:00   \n",
       "4  2020-03-31 20:04:07+00:00   \n",
       "\n",
       "                                             content  \\\n",
       "0  ★💰 WORK FROM HOME💰 ★\\n I'm Looking For Stay at...   \n",
       "1  LIMITED TIME! Sign Up for FREE\\nEnds March 31....   \n",
       "2  Catch our own Tiffany Joy Murchison @Ms_Tiffan...   \n",
       "3  clocking out is near - make sure to end of you...   \n",
       "4  😎 she’s so cool... #lea #leainny #stayhome #go...   \n",
       "\n",
       "                                     renderedContent  \\\n",
       "0  ★💰 WORK FROM HOME💰 ★\\n I'm Looking For Stay at...   \n",
       "1  LIMITED TIME! Sign Up for FREE\\nEnds March 31....   \n",
       "2  Catch our own Tiffany Joy Murchison @Ms_Tiffan...   \n",
       "3  clocking out is near - make sure to end of you...   \n",
       "4  😎 she’s so cool... #lea #leainny #stayhome #go...   \n",
       "\n",
       "                                            hashtags  likeCount  location  \n",
       "0  ('bossmom', 'bossbabe', 'joinavon', 'joinmytea...        0.0  New York  \n",
       "1  ('luzavonsalesrep', 'bosslife', 'bosslady', 'w...        1.0  New York  \n",
       "2  ('Perspectives', 'OVERCOMECOVID19', 'WFH', 'TJ...        0.0  New York  \n",
       "3  ('WFH', 'spa', 'workingfromhome', 'kyliejenner...        0.0  New York  \n",
       "4  ('lea', 'leainny', 'stayhome', 'goldenretrieve...        0.0  New York  "
      ]
     },
     "execution_count": 6,
     "metadata": {},
     "output_type": "execute_result"
    }
   ],
   "source": [
    "cities.head(5)"
   ]
  },
  {
   "cell_type": "code",
   "execution_count": 7,
   "metadata": {},
   "outputs": [],
   "source": [
    "cities.to_csv('data.csv')"
   ]
  },
  {
   "cell_type": "code",
   "execution_count": 45,
   "metadata": {},
   "outputs": [],
   "source": [
    "%matplotlib inline\n",
    "import matplotlib.pyplot as plt"
   ]
  },
  {
   "cell_type": "code",
   "execution_count": 51,
   "metadata": {},
   "outputs": [
    {
     "data": {
      "text/plain": [
       "8329"
      ]
     },
     "execution_count": 51,
     "metadata": {},
     "output_type": "execute_result"
    }
   ],
   "source": [
    "cities.hashtags.count()\n",
    "# have NaN"
   ]
  },
  {
   "cell_type": "markdown",
   "metadata": {},
   "source": [
    "时间分布"
   ]
  },
  {
   "cell_type": "code",
   "execution_count": 48,
   "metadata": {},
   "outputs": [
    {
     "data": {
      "text/plain": [
       "'2020-02-04 23:21:24+00:00'"
      ]
     },
     "execution_count": 48,
     "metadata": {},
     "output_type": "execute_result"
    }
   ],
   "source": [
    "cities.date.iloc[1]"
   ]
  },
  {
   "cell_type": "code",
   "execution_count": 49,
   "metadata": {},
   "outputs": [],
   "source": [
    "d = ['2020-02','2020-03','2020-04','2020-05','2020-06','2020-07','2020-08','2020-09','2020-10','2020-11','2020-12','2021-01','2021-02','2021-03','2021-04','2021-05','2021-06','2021-07','2021-08','2021-09','2021-10','2021-11','2021-12','2022-01','2022-02','2022-03','2022-04']\n"
   ]
  },
  {
   "cell_type": "code",
   "execution_count": 59,
   "metadata": {},
   "outputs": [
    {
     "data": {
      "text/plain": [
       "array(['New York', 'Los Angeles', 'Las Vegas', 'Miami', 'Chicago',\n",
       "       'Philadelphia', 'Paris', 'Delhi', 'Melbourne', 'Sydney', 'Toronto',\n",
       "       'London'], dtype=object)"
      ]
     },
     "execution_count": 59,
     "metadata": {},
     "output_type": "execute_result"
    }
   ],
   "source": [
    "cities.location.unique()"
   ]
  },
  {
   "cell_type": "code",
   "execution_count": 60,
   "metadata": {},
   "outputs": [],
   "source": [
    "city_d = dict()\n",
    "for c in cities.location.unique():\n",
    "    city_d[c] = cities[cities.location ==c]"
   ]
  },
  {
   "cell_type": "code",
   "execution_count": 62,
   "metadata": {},
   "outputs": [
    {
     "data": {
      "text/plain": [
       "dict_keys(['New York', 'Los Angeles', 'Las Vegas', 'Miami', 'Chicago', 'Philadelphia', 'Paris', 'Delhi', 'Melbourne', 'Sydney', 'Toronto', 'London'])"
      ]
     },
     "execution_count": 62,
     "metadata": {},
     "output_type": "execute_result"
    }
   ],
   "source": [
    "city_d.keys()"
   ]
  },
  {
   "cell_type": "code",
   "execution_count": 66,
   "metadata": {},
   "outputs": [
    {
     "data": {
      "text/plain": [
       "727"
      ]
     },
     "execution_count": 66,
     "metadata": {},
     "output_type": "execute_result"
    }
   ],
   "source": [
    "len(city_d['Los Angeles'])"
   ]
  },
  {
   "cell_type": "code",
   "execution_count": 67,
   "metadata": {},
   "outputs": [],
   "source": [
    "city_time = dict()"
   ]
  },
  {
   "cell_type": "code",
   "execution_count": null,
   "metadata": {},
   "outputs": [],
   "source": [
    "for k,v in city_d.items():\n",
    "    for time in d:\n",
    "        if v[v.date[:7]==time]"
   ]
  }
 ],
 "metadata": {
  "interpreter": {
   "hash": "bb856f02dc047c17be0020eec2fcc93d34f96ff17d2bb6c1b49f9e4be29346c2"
  },
  "kernelspec": {
   "display_name": "Python 3.9.7 ('base')",
   "language": "python",
   "name": "python3"
  },
  "language_info": {
   "codemirror_mode": {
    "name": "ipython",
    "version": 3
   },
   "file_extension": ".py",
   "mimetype": "text/x-python",
   "name": "python",
   "nbconvert_exporter": "python",
   "pygments_lexer": "ipython3",
   "version": "3.9.7"
  },
  "orig_nbformat": 4
 },
 "nbformat": 4,
 "nbformat_minor": 2
}
